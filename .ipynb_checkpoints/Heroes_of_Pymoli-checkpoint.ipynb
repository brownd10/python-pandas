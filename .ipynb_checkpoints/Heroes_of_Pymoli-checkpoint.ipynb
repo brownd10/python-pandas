{
 "cells": [
  {
   "cell_type": "code",
   "execution_count": 1,
   "metadata": {},
   "outputs": [],
   "source": [
    "# Create dependencies and create variable\n",
    "import pandas as pd\n",
    "import numpy as np"
   ]
  },
  {
   "cell_type": "code",
   "execution_count": 2,
   "metadata": {},
   "outputs": [
    {
     "data": {
      "text/html": [
       "<div>\n",
       "<style scoped>\n",
       "    .dataframe tbody tr th:only-of-type {\n",
       "        vertical-align: middle;\n",
       "    }\n",
       "\n",
       "    .dataframe tbody tr th {\n",
       "        vertical-align: top;\n",
       "    }\n",
       "\n",
       "    .dataframe thead th {\n",
       "        text-align: right;\n",
       "    }\n",
       "</style>\n",
       "<table border=\"1\" class=\"dataframe\">\n",
       "  <thead>\n",
       "    <tr style=\"text-align: right;\">\n",
       "      <th></th>\n",
       "      <th>Age</th>\n",
       "      <th>Gender</th>\n",
       "      <th>Item ID</th>\n",
       "      <th>Item Name</th>\n",
       "      <th>Price</th>\n",
       "      <th>SN</th>\n",
       "    </tr>\n",
       "  </thead>\n",
       "  <tbody>\n",
       "    <tr>\n",
       "      <th>0</th>\n",
       "      <td>38</td>\n",
       "      <td>Male</td>\n",
       "      <td>165</td>\n",
       "      <td>Bone Crushing Silver Skewer</td>\n",
       "      <td>3.37</td>\n",
       "      <td>Aelalis34</td>\n",
       "    </tr>\n",
       "    <tr>\n",
       "      <th>1</th>\n",
       "      <td>21</td>\n",
       "      <td>Male</td>\n",
       "      <td>119</td>\n",
       "      <td>Stormbringer, Dark Blade of Ending Misery</td>\n",
       "      <td>2.32</td>\n",
       "      <td>Eolo46</td>\n",
       "    </tr>\n",
       "    <tr>\n",
       "      <th>2</th>\n",
       "      <td>34</td>\n",
       "      <td>Male</td>\n",
       "      <td>174</td>\n",
       "      <td>Primitive Blade</td>\n",
       "      <td>2.46</td>\n",
       "      <td>Assastnya25</td>\n",
       "    </tr>\n",
       "    <tr>\n",
       "      <th>3</th>\n",
       "      <td>21</td>\n",
       "      <td>Male</td>\n",
       "      <td>92</td>\n",
       "      <td>Final Critic</td>\n",
       "      <td>1.36</td>\n",
       "      <td>Pheusrical25</td>\n",
       "    </tr>\n",
       "    <tr>\n",
       "      <th>4</th>\n",
       "      <td>23</td>\n",
       "      <td>Male</td>\n",
       "      <td>63</td>\n",
       "      <td>Stormfury Mace</td>\n",
       "      <td>1.27</td>\n",
       "      <td>Aela59</td>\n",
       "    </tr>\n",
       "  </tbody>\n",
       "</table>\n",
       "</div>"
      ],
      "text/plain": [
       "   Age Gender  Item ID                                  Item Name  Price  \\\n",
       "0   38   Male      165                Bone Crushing Silver Skewer   3.37   \n",
       "1   21   Male      119  Stormbringer, Dark Blade of Ending Misery   2.32   \n",
       "2   34   Male      174                            Primitive Blade   2.46   \n",
       "3   21   Male       92                               Final Critic   1.36   \n",
       "4   23   Male       63                             Stormfury Mace   1.27   \n",
       "\n",
       "             SN  \n",
       "0     Aelalis34  \n",
       "1        Eolo46  \n",
       "2   Assastnya25  \n",
       "3  Pheusrical25  \n",
       "4        Aela59  "
      ]
     },
     "execution_count": 2,
     "metadata": {},
     "output_type": "execute_result"
    }
   ],
   "source": [
    "# Read csv file and display table\n",
    "players = pd.read_json('Resources/purchase_data.json', orient='columns')\n",
    "players.head()"
   ]
  },
  {
   "cell_type": "code",
   "execution_count": 3,
   "metadata": {},
   "outputs": [
    {
     "data": {
      "text/plain": [
       "Age          780\n",
       "Gender       780\n",
       "Item ID      780\n",
       "Item Name    780\n",
       "Price        780\n",
       "SN           780\n",
       "dtype: int64"
      ]
     },
     "execution_count": 3,
     "metadata": {},
     "output_type": "execute_result"
    }
   ],
   "source": [
    "# Remove rows with missing data (if any)\n",
    "filtered_players = players.dropna(how='any')\n",
    "filtered_players.count()"
   ]
  },
  {
   "cell_type": "code",
   "execution_count": 4,
   "metadata": {},
   "outputs": [
    {
     "data": {
      "text/plain": [
       "Age            int64\n",
       "Gender        object\n",
       "Item ID        int64\n",
       "Item Name     object\n",
       "Price        float64\n",
       "SN            object\n",
       "dtype: object"
      ]
     },
     "execution_count": 4,
     "metadata": {},
     "output_type": "execute_result"
    }
   ],
   "source": [
    "# Display dataframe information\n",
    "filtered_players.dtypes"
   ]
  },
  {
   "cell_type": "code",
   "execution_count": 5,
   "metadata": {},
   "outputs": [
    {
     "data": {
      "text/plain": [
       "Male                     633\n",
       "Female                   136\n",
       "Other / Non-Disclosed     11\n",
       "Name: Gender, dtype: int64"
      ]
     },
     "execution_count": 5,
     "metadata": {},
     "output_type": "execute_result"
    }
   ],
   "source": [
    "# Display total number of players\n",
    "total_players = filtered_players[\"Gender\"].value_counts()\n",
    "total_players"
   ]
  },
  {
   "cell_type": "code",
   "execution_count": 6,
   "metadata": {},
   "outputs": [
    {
     "data": {
      "text/plain": [
       "780"
      ]
     },
     "execution_count": 6,
     "metadata": {},
     "output_type": "execute_result"
    }
   ],
   "source": [
    "total_players.sum()"
   ]
  },
  {
   "cell_type": "code",
   "execution_count": 7,
   "metadata": {},
   "outputs": [],
   "source": [
    "# Establish player count variables\n",
    "total_players = 780\n",
    "message1 = '* Total Number of Players -- %s'"
   ]
  },
  {
   "cell_type": "code",
   "execution_count": 8,
   "metadata": {},
   "outputs": [
    {
     "name": "stdout",
     "output_type": "stream",
     "text": [
      "**Player Count**\n",
      "\n",
      "* Total Number of Players -- 780\n"
     ]
    }
   ],
   "source": [
    "# Print information for total number of players\n",
    "print('**Player Count**')\n",
    "print()\n",
    "print(message1 % (total_players))"
   ]
  },
  {
   "cell_type": "code",
   "execution_count": 9,
   "metadata": {},
   "outputs": [
    {
     "data": {
      "text/plain": [
       "84     11\n",
       "39     11\n",
       "31      9\n",
       "34      9\n",
       "175     9\n",
       "13      9\n",
       "106     8\n",
       "44      8\n",
       "92      8\n",
       "65      8\n",
       "152     8\n",
       "107     8\n",
       "172     7\n",
       "179     7\n",
       "115     7\n",
       "154     7\n",
       "79      7\n",
       "158     7\n",
       "108     7\n",
       "66      7\n",
       "11      7\n",
       "130     7\n",
       "18      7\n",
       "124     6\n",
       "103     6\n",
       "101     6\n",
       "121     6\n",
       "102     6\n",
       "73      6\n",
       "145     6\n",
       "       ..\n",
       "116     2\n",
       "89      2\n",
       "64      2\n",
       "9       2\n",
       "167     2\n",
       "80      2\n",
       "74      2\n",
       "72      2\n",
       "146     2\n",
       "149     2\n",
       "150     2\n",
       "178     2\n",
       "62      2\n",
       "58      2\n",
       "56      2\n",
       "55      2\n",
       "4       1\n",
       "2       1\n",
       "3       1\n",
       "59      1\n",
       "28      1\n",
       "168     1\n",
       "164     1\n",
       "43      1\n",
       "156     1\n",
       "147     1\n",
       "136     1\n",
       "126     1\n",
       "109     1\n",
       "0       1\n",
       "Name: Item ID, Length: 183, dtype: int64"
      ]
     },
     "execution_count": 9,
     "metadata": {},
     "output_type": "execute_result"
    }
   ],
   "source": [
    "# Calculate items for Purchasing Analysis (Total)\n",
    "iso_items = filtered_players[\"Item ID\"].value_counts()\n",
    "iso_items"
   ]
  },
  {
   "cell_type": "code",
   "execution_count": 10,
   "metadata": {},
   "outputs": [],
   "source": [
    "# Calculate average purchase price\n"
   ]
  },
  {
   "cell_type": "code",
   "execution_count": 11,
   "metadata": {},
   "outputs": [],
   "source": [
    "# Establish purchasing analysis variables\n",
    "iso_items = 183\n",
    "avg_price = 18\n",
    "total_purchase = 20\n",
    "total_revenue = 22\n",
    "message2 = '* Number of Unique Items -- %s'\n",
    "message3 = '* Average Purchase Price -- %s'\n",
    "message4 = '* Total Number of Purchases -- %s'\n",
    "message5 = '* Total Revenue -- %s'"
   ]
  },
  {
   "cell_type": "code",
   "execution_count": 12,
   "metadata": {},
   "outputs": [
    {
     "name": "stdout",
     "output_type": "stream",
     "text": [
      "** Purchasing Analysis (Total)**\n",
      "\n",
      "* Number of Unique Items -- 183\n",
      "* Average Purchase Price -- 18\n",
      "* Total Number of Purchases -- 20\n",
      "* Total Revenue -- 22\n"
     ]
    }
   ],
   "source": [
    "# Print information for 'Purchasing Analysis \n",
    "print('** Purchasing Analysis (Total)**')\n",
    "print()\n",
    "print(message2 % (iso_items))\n",
    "print(message3 % (avg_price))\n",
    "print(message4 % (total_purchase))\n",
    "print(message5 % (total_revenue))"
   ]
  },
  {
   "cell_type": "code",
   "execution_count": 18,
   "metadata": {},
   "outputs": [
    {
     "name": "stdout",
     "output_type": "stream",
     "text": [
      "**Gender Demographics**\n",
      "\n",
      "* Percentage and Count of Male Players --\n",
      "* Percentage and Count of Female Players --\n",
      "* Percentage and Count of Other/Non-Disclosed Players --\n"
     ]
    }
   ],
   "source": [
    "# Print information for Gender Demographics\n",
    "print('**Gender Demographics**')\n",
    "print()\n",
    "print('* Percentage and Count of Male Players --')\n",
    "print('* Percentage and Count of Female Players --')\n",
    "print('* Percentage and Count of Other/Non-Disclosed Players --')"
   ]
  },
  {
   "cell_type": "code",
   "execution_count": 19,
   "metadata": {},
   "outputs": [
    {
     "name": "stdout",
     "output_type": "stream",
     "text": [
      "**Purchasing Analysis (Gender)\n",
      "\n",
      "* Purchase Count Male --\n",
      "* Purchase Count Female --\n",
      "* Purchase Count Other/Non-Disclosed --\n",
      "\n",
      "* Average Purchase Price Male --\n",
      "* Average Purchase Price Female --\n",
      "* Average Purchase Price Other/Non-Disclosed --\n",
      "\n",
      "* Total Purchase Value Male --\n",
      "* Total Purchase Value Female --\n",
      "* Total Purchase Value Other/Non-Disclosed --\n",
      "\n",
      "* Normalized Totals Male --\n",
      "* Normalized Totals Female --\n",
      "* Normalized Totals Other/Non-Disclosed --\n"
     ]
    }
   ],
   "source": [
    "# Print information for Purchasing Analysis (Gender)\n",
    "print('**Purchasing Analysis (Gender)**')\n",
    "print()\n",
    "print('* Purchase Count Male --')\n",
    "print('* Purchase Count Female --')\n",
    "print('* Purchase Count Other/Non-Disclosed --')\n",
    "print()\n",
    "print('* Average Purchase Price Male --')\n",
    "print('* Average Purchase Price Female --')\n",
    "print('* Average Purchase Price Other/Non-Disclosed --')\n",
    "print()\n",
    "print('* Total Purchase Value Male --')\n",
    "print('* Total Purchase Value Female --')\n",
    "print('* Total Purchase Value Other/Non-Disclosed --')\n",
    "print()\n",
    "print('* Normalized Totals Male --')\n",
    "print('* Normalized Totals Female --')\n",
    "print('* Normalized Totals Other/Non-Disclosed --')"
   ]
  },
  {
   "cell_type": "code",
   "execution_count": 13,
   "metadata": {},
   "outputs": [],
   "source": [
    "# Establish age demographics variables\n",
    "purchase_count = 1\n",
    "avg_purchase_price = 2\n",
    "total_purchase_value = 3\n",
    "norm_totals = 4\n",
    "message18 = '* Purchase Count -- %s'\n",
    "message19 = '* Average Purchase Price -- %s'\n",
    "message20 = '* Total Purchase Value -- %s'\n",
    "message21 = '* Normalized Totals -- %s'"
   ]
  },
  {
   "cell_type": "code",
   "execution_count": 14,
   "metadata": {},
   "outputs": [
    {
     "name": "stdout",
     "output_type": "stream",
     "text": [
      "**Age Demographics**s\n",
      "\n",
      "* Purchase Count -- 1\n",
      "* Average Purchase Price -- 2\n",
      "* Total Purchase Value -- 3\n",
      "* Normalized Totals -- 4\n"
     ]
    }
   ],
   "source": [
    "# Print information for Age Demographics\n",
    "print('**Age Demographics**s')\n",
    "print()\n",
    "print(message18 % (purchase_count))\n",
    "print(message19 % (avg_purchase_price))\n",
    "print(message20 % (total_purchase_value))\n",
    "print(message21 % (norm_totals))"
   ]
  },
  {
   "cell_type": "code",
   "execution_count": null,
   "metadata": {},
   "outputs": [],
   "source": [
    "# save output to excel\n",
    "#df.to_excel(\"Resources/purchase_data_complete.xlsx\", index=FALSe)"
   ]
  }
 ],
 "metadata": {
  "kernelspec": {
   "display_name": "Python 3",
   "language": "python",
   "name": "python3"
  },
  "language_info": {
   "codemirror_mode": {
    "name": "ipython",
    "version": 3
   },
   "file_extension": ".py",
   "mimetype": "text/x-python",
   "name": "python",
   "nbconvert_exporter": "python",
   "pygments_lexer": "ipython3",
   "version": "3.6.4"
  }
 },
 "nbformat": 4,
 "nbformat_minor": 2
}
