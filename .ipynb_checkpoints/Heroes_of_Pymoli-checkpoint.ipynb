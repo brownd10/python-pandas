{
 "cells": [
  {
   "cell_type": "code",
   "execution_count": 1,
   "metadata": {},
   "outputs": [],
   "source": [
    "# Create dependencies and create variable\n",
    "import pandas as pd\n",
    "import numpy as np"
   ]
  },
  {
   "cell_type": "code",
   "execution_count": 2,
   "metadata": {},
   "outputs": [
    {
     "data": {
      "text/html": [
       "<div>\n",
       "<style scoped>\n",
       "    .dataframe tbody tr th:only-of-type {\n",
       "        vertical-align: middle;\n",
       "    }\n",
       "\n",
       "    .dataframe tbody tr th {\n",
       "        vertical-align: top;\n",
       "    }\n",
       "\n",
       "    .dataframe thead th {\n",
       "        text-align: right;\n",
       "    }\n",
       "</style>\n",
       "<table border=\"1\" class=\"dataframe\">\n",
       "  <thead>\n",
       "    <tr style=\"text-align: right;\">\n",
       "      <th></th>\n",
       "      <th>Age</th>\n",
       "      <th>Gender</th>\n",
       "      <th>Item ID</th>\n",
       "      <th>Item Name</th>\n",
       "      <th>Price</th>\n",
       "      <th>SN</th>\n",
       "    </tr>\n",
       "  </thead>\n",
       "  <tbody>\n",
       "    <tr>\n",
       "      <th>0</th>\n",
       "      <td>38</td>\n",
       "      <td>Male</td>\n",
       "      <td>165</td>\n",
       "      <td>Bone Crushing Silver Skewer</td>\n",
       "      <td>3.37</td>\n",
       "      <td>Aelalis34</td>\n",
       "    </tr>\n",
       "    <tr>\n",
       "      <th>1</th>\n",
       "      <td>21</td>\n",
       "      <td>Male</td>\n",
       "      <td>119</td>\n",
       "      <td>Stormbringer, Dark Blade of Ending Misery</td>\n",
       "      <td>2.32</td>\n",
       "      <td>Eolo46</td>\n",
       "    </tr>\n",
       "    <tr>\n",
       "      <th>2</th>\n",
       "      <td>34</td>\n",
       "      <td>Male</td>\n",
       "      <td>174</td>\n",
       "      <td>Primitive Blade</td>\n",
       "      <td>2.46</td>\n",
       "      <td>Assastnya25</td>\n",
       "    </tr>\n",
       "    <tr>\n",
       "      <th>3</th>\n",
       "      <td>21</td>\n",
       "      <td>Male</td>\n",
       "      <td>92</td>\n",
       "      <td>Final Critic</td>\n",
       "      <td>1.36</td>\n",
       "      <td>Pheusrical25</td>\n",
       "    </tr>\n",
       "    <tr>\n",
       "      <th>4</th>\n",
       "      <td>23</td>\n",
       "      <td>Male</td>\n",
       "      <td>63</td>\n",
       "      <td>Stormfury Mace</td>\n",
       "      <td>1.27</td>\n",
       "      <td>Aela59</td>\n",
       "    </tr>\n",
       "    <tr>\n",
       "      <th>5</th>\n",
       "      <td>20</td>\n",
       "      <td>Male</td>\n",
       "      <td>10</td>\n",
       "      <td>Sleepwalker</td>\n",
       "      <td>1.73</td>\n",
       "      <td>Tanimnya91</td>\n",
       "    </tr>\n",
       "    <tr>\n",
       "      <th>6</th>\n",
       "      <td>20</td>\n",
       "      <td>Male</td>\n",
       "      <td>153</td>\n",
       "      <td>Mercenary Sabre</td>\n",
       "      <td>4.57</td>\n",
       "      <td>Undjaskla97</td>\n",
       "    </tr>\n",
       "    <tr>\n",
       "      <th>7</th>\n",
       "      <td>29</td>\n",
       "      <td>Female</td>\n",
       "      <td>169</td>\n",
       "      <td>Interrogator, Blood Blade of the Queen</td>\n",
       "      <td>3.32</td>\n",
       "      <td>Iathenudil29</td>\n",
       "    </tr>\n",
       "    <tr>\n",
       "      <th>8</th>\n",
       "      <td>25</td>\n",
       "      <td>Male</td>\n",
       "      <td>118</td>\n",
       "      <td>Ghost Reaver, Longsword of Magic</td>\n",
       "      <td>2.77</td>\n",
       "      <td>Sondenasta63</td>\n",
       "    </tr>\n",
       "    <tr>\n",
       "      <th>9</th>\n",
       "      <td>31</td>\n",
       "      <td>Male</td>\n",
       "      <td>99</td>\n",
       "      <td>Expiration, Warscythe Of Lost Worlds</td>\n",
       "      <td>4.53</td>\n",
       "      <td>Hilaerin92</td>\n",
       "    </tr>\n",
       "  </tbody>\n",
       "</table>\n",
       "</div>"
      ],
      "text/plain": [
       "   Age  Gender  Item ID                                  Item Name  Price  \\\n",
       "0   38    Male      165                Bone Crushing Silver Skewer   3.37   \n",
       "1   21    Male      119  Stormbringer, Dark Blade of Ending Misery   2.32   \n",
       "2   34    Male      174                            Primitive Blade   2.46   \n",
       "3   21    Male       92                               Final Critic   1.36   \n",
       "4   23    Male       63                             Stormfury Mace   1.27   \n",
       "5   20    Male       10                                Sleepwalker   1.73   \n",
       "6   20    Male      153                            Mercenary Sabre   4.57   \n",
       "7   29  Female      169     Interrogator, Blood Blade of the Queen   3.32   \n",
       "8   25    Male      118           Ghost Reaver, Longsword of Magic   2.77   \n",
       "9   31    Male       99       Expiration, Warscythe Of Lost Worlds   4.53   \n",
       "\n",
       "             SN  \n",
       "0     Aelalis34  \n",
       "1        Eolo46  \n",
       "2   Assastnya25  \n",
       "3  Pheusrical25  \n",
       "4        Aela59  \n",
       "5    Tanimnya91  \n",
       "6   Undjaskla97  \n",
       "7  Iathenudil29  \n",
       "8  Sondenasta63  \n",
       "9    Hilaerin92  "
      ]
     },
     "execution_count": 2,
     "metadata": {},
     "output_type": "execute_result"
    }
   ],
   "source": [
    "# Read csv file and display table\n",
    "players = pd.read_json('Resources/purchase_data.json', orient='table')\n",
    "players.head(10)"
   ]
  },
  {
   "cell_type": "code",
   "execution_count": 3,
   "metadata": {},
   "outputs": [
    {
     "data": {
      "text/plain": [
       "pandas.core.frame.DataFrame"
      ]
     },
     "execution_count": 3,
     "metadata": {},
     "output_type": "execute_result"
    }
   ],
   "source": [
    "# Confirm dataframe\n",
    "type(players)"
   ]
  },
  {
   "cell_type": "code",
   "execution_count": 4,
   "metadata": {},
   "outputs": [
    {
     "data": {
      "text/plain": [
       "Age          780\n",
       "Gender       780\n",
       "Item ID      780\n",
       "Item Name    780\n",
       "Price        780\n",
       "SN           780\n",
       "dtype: int64"
      ]
     },
     "execution_count": 4,
     "metadata": {},
     "output_type": "execute_result"
    }
   ],
   "source": [
    "# Remove rows with missing data (if any)\n",
    "filtered_players = players.dropna(how='any')\n",
    "filtered_players.count()"
   ]
  },
  {
   "cell_type": "code",
   "execution_count": 5,
   "metadata": {},
   "outputs": [
    {
     "data": {
      "text/plain": [
       "Age            int64\n",
       "Gender        object\n",
       "Item ID        int64\n",
       "Item Name     object\n",
       "Price        float64\n",
       "SN            object\n",
       "dtype: object"
      ]
     },
     "execution_count": 5,
     "metadata": {},
     "output_type": "execute_result"
    }
   ],
   "source": [
    "# Display dataframe information\n",
    "players.dtypes"
   ]
  },
  {
   "cell_type": "code",
   "execution_count": 6,
   "metadata": {},
   "outputs": [
    {
     "data": {
      "text/plain": [
       "573"
      ]
     },
     "execution_count": 6,
     "metadata": {},
     "output_type": "execute_result"
    }
   ],
   "source": [
    "# Display total number of players\n",
    "total_players = players[\"SN\"].nunique()\n",
    "total_players"
   ]
  },
  {
   "cell_type": "code",
   "execution_count": 7,
   "metadata": {},
   "outputs": [
    {
     "data": {
      "text/html": [
       "<div>\n",
       "<style scoped>\n",
       "    .dataframe tbody tr th:only-of-type {\n",
       "        vertical-align: middle;\n",
       "    }\n",
       "\n",
       "    .dataframe tbody tr th {\n",
       "        vertical-align: top;\n",
       "    }\n",
       "\n",
       "    .dataframe thead th {\n",
       "        text-align: right;\n",
       "    }\n",
       "</style>\n",
       "<table border=\"1\" class=\"dataframe\">\n",
       "  <thead>\n",
       "    <tr style=\"text-align: right;\">\n",
       "      <th></th>\n",
       "    </tr>\n",
       "    <tr>\n",
       "      <th>Total Number of Players</th>\n",
       "    </tr>\n",
       "  </thead>\n",
       "  <tbody>\n",
       "    <tr>\n",
       "      <th>573</th>\n",
       "    </tr>\n",
       "  </tbody>\n",
       "</table>\n",
       "</div>"
      ],
      "text/plain": [
       "Empty DataFrame\n",
       "Columns: []\n",
       "Index: [573]"
      ]
     },
     "execution_count": 7,
     "metadata": {},
     "output_type": "execute_result"
    }
   ],
   "source": [
    "# Create new dataframe for total_players and reset index based on new dataframe\n",
    "player_summary = pd.DataFrame([{'Total Number of Players': total_players}])\n",
    "player_summary.set_index('Total Number of Players', inplace=True)\n",
    "player_summary.head()"
   ]
  },
  {
   "cell_type": "code",
   "execution_count": 39,
   "metadata": {},
   "outputs": [],
   "source": [
    "# Calculate items for Purchasing Analysis (Total)\n",
    "iso_items = players['Item ID'].nunique()\n",
    "total_num_purch = len(players['Item Name'].unique())\n",
    "total_rev = players['Price'].sum()\n",
    "avg_purch_price = (total_rev/total_num_purch)"
   ]
  },
  {
   "cell_type": "code",
   "execution_count": 36,
   "metadata": {},
   "outputs": [
    {
     "data": {
      "text/html": [
       "<div>\n",
       "<style scoped>\n",
       "    .dataframe tbody tr th:only-of-type {\n",
       "        vertical-align: middle;\n",
       "    }\n",
       "\n",
       "    .dataframe tbody tr th {\n",
       "        vertical-align: top;\n",
       "    }\n",
       "\n",
       "    .dataframe thead th {\n",
       "        text-align: right;\n",
       "    }\n",
       "</style>\n",
       "<table border=\"1\" class=\"dataframe\">\n",
       "  <thead>\n",
       "    <tr style=\"text-align: right;\">\n",
       "      <th></th>\n",
       "      <th>Average Purchase Price</th>\n",
       "      <th>Number of Unique Items</th>\n",
       "      <th>Total Number of Purchases</th>\n",
       "      <th>Total Revenue</th>\n",
       "    </tr>\n",
       "  </thead>\n",
       "  <tbody>\n",
       "    <tr>\n",
       "      <th>0</th>\n",
       "      <td>12.772793</td>\n",
       "      <td>183</td>\n",
       "      <td>179</td>\n",
       "      <td>2286.33</td>\n",
       "    </tr>\n",
       "  </tbody>\n",
       "</table>\n",
       "</div>"
      ],
      "text/plain": [
       "   Average Purchase Price  Number of Unique Items  Total Number of Purchases  \\\n",
       "0               12.772793                     183                        179   \n",
       "\n",
       "   Total Revenue  \n",
       "0        2286.33  "
      ]
     },
     "execution_count": 36,
     "metadata": {},
     "output_type": "execute_result"
    }
   ],
   "source": [
    "# Create new dataframe for purchasing analysis details\n",
    "purchase_summary = pd.DataFrame([{'Number of Unique Items': iso_items, 'Average Purchase Price': avg_purch_price, 'Total Number of Purchases': total_num_purch, 'Total Revenue': total_rev}])\n",
    "purchase_summary.set_index('Number of Unique Items', inplace=False)\n",
    "purchase_summary.head()"
   ]
  },
  {
   "cell_type": "code",
   "execution_count": 10,
   "metadata": {},
   "outputs": [],
   "source": [
    "# Establish gender demographics variables\n",
    "per_male = ''\n",
    "count_male = ''\n",
    "per_female = ''\n",
    "count_female = ''\n",
    "per_other = ''\n",
    "count_other = ''\n",
    "message6 = '* Percentage and Count of Male Players -- %s'\n",
    "message7 = '* Percentage and Count of Female Players -- %s'\n",
    "message8 = '* Percentage and Count of Other/Non-Disclosed Players -- %s'"
   ]
  },
  {
   "cell_type": "code",
   "execution_count": 14,
   "metadata": {},
   "outputs": [
    {
     "name": "stdout",
     "output_type": "stream",
     "text": [
      "**Gender Demographics**\n",
      "\n",
      "* Percentage and Count of Male Players --  \n",
      "* Percentage and Count of Female Players --  \n",
      "* Percentage and Count of Other/Non-Disclosed Players --  \n"
     ]
    }
   ],
   "source": [
    "# Print information for Gender Demographics\n",
    "print('**Gender Demographics**')\n",
    "print()\n",
    "print(message6 % (per_male), (count_male))\n",
    "print(message7 % (per_female), (count_female))\n",
    "print(message8 % (per_other), (count_other))"
   ]
  },
  {
   "cell_type": "code",
   "execution_count": null,
   "metadata": {},
   "outputs": [],
   "source": [
    "# Establish gender purchasing analysis variables\n",
    "purch_count_male = ''\n",
    "purch_count_female = ''\n",
    "purch_count_other = ''\n",
    "avg_purch_price_male = ''\n",
    "avg_purch_price_female = ''\n",
    "avg_purch_price_other = ''\n",
    "total_purch_male = ''\n",
    "total_purch_female = ''\n",
    "total_purch_other = ''\n",
    "norm_total_male = ''\n",
    "norm_total_female = ''\n",
    "norm_total_other = ''\n",
    "message9 = '* Purchase Count Male -- %s'\n",
    "message10 = '* Purchase Count Female -- %s'\n",
    "message11 = '* Purchase Count Other/Non-Disclosed -- %s'\n",
    "message12 = '* Average Purchase Price Male -- %s'\n",
    "message13 = '* Average Purchase Price Female -- %s'\n",
    "message14 = '* Average Purchase Price Other/Non-Disclosed -- %s'\n",
    "message15 = '* Total Purchase Value Male -- %s'\n",
    "message16 = '* Total Purchase Value Female -- %s'\n",
    "message17 = '* Total Purchase Value Other/Non-Disclosed -- %s'\n",
    "message18 = '* Normalized Totals Male -- %s'\n",
    "message19 = '* Normalized Totals Female -- %s'\n",
    "message20 = '* Normalized Totals Other/Non-Disclosed -- %s'"
   ]
  },
  {
   "cell_type": "code",
   "execution_count": 19,
   "metadata": {},
   "outputs": [
    {
     "name": "stdout",
     "output_type": "stream",
     "text": [
      "**Purchasing Analysis (Gender)\n",
      "\n",
      "* Purchase Count Male --\n",
      "* Purchase Count Female --\n",
      "* Purchase Count Other/Non-Disclosed --\n",
      "\n",
      "* Average Purchase Price Male --\n",
      "* Average Purchase Price Female --\n",
      "* Average Purchase Price Other/Non-Disclosed --\n",
      "\n",
      "* Total Purchase Value Male --\n",
      "* Total Purchase Value Female --\n",
      "* Total Purchase Value Other/Non-Disclosed --\n",
      "\n",
      "* Normalized Totals Male --\n",
      "* Normalized Totals Female --\n",
      "* Normalized Totals Other/Non-Disclosed --\n"
     ]
    }
   ],
   "source": [
    "# Print information for Purchasing Analysis (Gender)\n",
    "print('**Purchasing Analysis (Gender)**')\n",
    "print()\n",
    "print(message9 % ())\n",
    "print(message10 % ())\n",
    "print(message11 % ())\n",
    "print()\n",
    "print(message12 % ())\n",
    "print(message13 % ())\n",
    "print(message14 % ())\n",
    "print()\n",
    "print(message15 % ())\n",
    "print(message16 % ())\n",
    "print(message17 % ())\n",
    "print()\n",
    "print(message18 % ())\n",
    "print(message19 % ())\n",
    "print(message20 % ())"
   ]
  },
  {
   "cell_type": "code",
   "execution_count": 13,
   "metadata": {},
   "outputs": [],
   "source": [
    "# Establish age demographics variables\n",
    "purchase_count = ''\n",
    "avg_purchase_price = ''\n",
    "total_purchase_value = ''\n",
    "norm_totals = ''\n",
    "message21 = '* Purchase Count -- %s'\n",
    "message22 = '* Average Purchase Price -- %s'\n",
    "message23 = '* Total Purchase Value -- %s'\n",
    "message24 = '* Normalized Totals -- %s'"
   ]
  },
  {
   "cell_type": "code",
   "execution_count": 14,
   "metadata": {},
   "outputs": [
    {
     "name": "stdout",
     "output_type": "stream",
     "text": [
      "**Age Demographics**s\n",
      "\n",
      "* Purchase Count -- 1\n",
      "* Average Purchase Price -- 2\n",
      "* Total Purchase Value -- 3\n",
      "* Normalized Totals -- 4\n"
     ]
    }
   ],
   "source": [
    "# Print information for Age Demographics\n",
    "print('**Age Demographics**s')\n",
    "print()\n",
    "print(message21 % (purchase_count))\n",
    "print(message22 % (avg_purchase_price))\n",
    "print(message23 % (total_purchase_value))\n",
    "print(message24 % (norm_totals))"
   ]
  },
  {
   "cell_type": "code",
   "execution_count": null,
   "metadata": {},
   "outputs": [],
   "source": [
    "# save output to excel\n",
    "#df.to_excel(\"Resources/purchase_data_complete.xlsx\", index=FALSe)"
   ]
  }
 ],
 "metadata": {
  "kernelspec": {
   "display_name": "Python 3",
   "language": "python",
   "name": "python3"
  },
  "language_info": {
   "codemirror_mode": {
    "name": "ipython",
    "version": 3
   },
   "file_extension": ".py",
   "mimetype": "text/x-python",
   "name": "python",
   "nbconvert_exporter": "python",
   "pygments_lexer": "ipython3",
   "version": "3.6.4"
  }
 },
 "nbformat": 4,
 "nbformat_minor": 2
}
